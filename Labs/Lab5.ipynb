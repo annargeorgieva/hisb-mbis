{
  "nbformat": 4,
  "nbformat_minor": 0,
  "metadata": {
    "colab": {
      "provenance": []
    },
    "kernelspec": {
      "name": "python3",
      "display_name": "Python 3"
    },
    "language_info": {
      "name": "python"
    }
  },
  "cells": [
    {
      "cell_type": "code",
      "execution_count": 1,
      "metadata": {
        "id": "zBAe62_76Xk1"
      },
      "outputs": [],
      "source": [
        "import pandas as pd\n",
        "import altair as alt"
      ]
    },
    {
      "cell_type": "code",
      "source": [
        "stu = pd.read_csv('sample_data/Students data.csv')\n",
        "stu.head()"
      ],
      "metadata": {
        "colab": {
          "base_uri": "https://localhost:8080/",
          "height": 270
        },
        "id": "iAHX3CAN76_F",
        "outputId": "5d4a5967-f9cd-44ee-bbef-356ec454631d"
      },
      "execution_count": 7,
      "outputs": [
        {
          "output_type": "execute_result",
          "data": {
            "text/plain": [
              "     ID class  gender  race    GPA  Algebra  Calculus1  Calculus2  Statistics  \\\n",
              "0  1141     A    male     1  73.47       64         81         87          60   \n",
              "1  1142     A  female     1  71.22       57         50         51          51   \n",
              "2  1143     A  female     2  74.56       47         48         71          60   \n",
              "3  1144     A  female     1  72.89       46         72         38          60   \n",
              "4  1145     A  female     1  70.11       49         45         63          60   \n",
              "\n",
              "   Probability  Measure  Functional_analysis from1 from2 from3  from4  y  \n",
              "0           74       71                   60     A     A     A      3  0  \n",
              "1           55       62                   61     B     A     A      2  0  \n",
              "2           61       68                   64     C     A     A      0  1  \n",
              "3           29       54                   51     D     A     A      0  0  \n",
              "4           66       66                   61     E     A     A      0  0  "
            ],
            "text/html": [
              "\n",
              "  <div id=\"df-b5752edd-a46f-4d87-afe0-85162bddd94a\">\n",
              "    <div class=\"colab-df-container\">\n",
              "      <div>\n",
              "<style scoped>\n",
              "    .dataframe tbody tr th:only-of-type {\n",
              "        vertical-align: middle;\n",
              "    }\n",
              "\n",
              "    .dataframe tbody tr th {\n",
              "        vertical-align: top;\n",
              "    }\n",
              "\n",
              "    .dataframe thead th {\n",
              "        text-align: right;\n",
              "    }\n",
              "</style>\n",
              "<table border=\"1\" class=\"dataframe\">\n",
              "  <thead>\n",
              "    <tr style=\"text-align: right;\">\n",
              "      <th></th>\n",
              "      <th>ID</th>\n",
              "      <th>class</th>\n",
              "      <th>gender</th>\n",
              "      <th>race</th>\n",
              "      <th>GPA</th>\n",
              "      <th>Algebra</th>\n",
              "      <th>Calculus1</th>\n",
              "      <th>Calculus2</th>\n",
              "      <th>Statistics</th>\n",
              "      <th>Probability</th>\n",
              "      <th>Measure</th>\n",
              "      <th>Functional_analysis</th>\n",
              "      <th>from1</th>\n",
              "      <th>from2</th>\n",
              "      <th>from3</th>\n",
              "      <th>from4</th>\n",
              "      <th>y</th>\n",
              "    </tr>\n",
              "  </thead>\n",
              "  <tbody>\n",
              "    <tr>\n",
              "      <th>0</th>\n",
              "      <td>1141</td>\n",
              "      <td>A</td>\n",
              "      <td>male</td>\n",
              "      <td>1</td>\n",
              "      <td>73.47</td>\n",
              "      <td>64</td>\n",
              "      <td>81</td>\n",
              "      <td>87</td>\n",
              "      <td>60</td>\n",
              "      <td>74</td>\n",
              "      <td>71</td>\n",
              "      <td>60</td>\n",
              "      <td>A</td>\n",
              "      <td>A</td>\n",
              "      <td>A</td>\n",
              "      <td>3</td>\n",
              "      <td>0</td>\n",
              "    </tr>\n",
              "    <tr>\n",
              "      <th>1</th>\n",
              "      <td>1142</td>\n",
              "      <td>A</td>\n",
              "      <td>female</td>\n",
              "      <td>1</td>\n",
              "      <td>71.22</td>\n",
              "      <td>57</td>\n",
              "      <td>50</td>\n",
              "      <td>51</td>\n",
              "      <td>51</td>\n",
              "      <td>55</td>\n",
              "      <td>62</td>\n",
              "      <td>61</td>\n",
              "      <td>B</td>\n",
              "      <td>A</td>\n",
              "      <td>A</td>\n",
              "      <td>2</td>\n",
              "      <td>0</td>\n",
              "    </tr>\n",
              "    <tr>\n",
              "      <th>2</th>\n",
              "      <td>1143</td>\n",
              "      <td>A</td>\n",
              "      <td>female</td>\n",
              "      <td>2</td>\n",
              "      <td>74.56</td>\n",
              "      <td>47</td>\n",
              "      <td>48</td>\n",
              "      <td>71</td>\n",
              "      <td>60</td>\n",
              "      <td>61</td>\n",
              "      <td>68</td>\n",
              "      <td>64</td>\n",
              "      <td>C</td>\n",
              "      <td>A</td>\n",
              "      <td>A</td>\n",
              "      <td>0</td>\n",
              "      <td>1</td>\n",
              "    </tr>\n",
              "    <tr>\n",
              "      <th>3</th>\n",
              "      <td>1144</td>\n",
              "      <td>A</td>\n",
              "      <td>female</td>\n",
              "      <td>1</td>\n",
              "      <td>72.89</td>\n",
              "      <td>46</td>\n",
              "      <td>72</td>\n",
              "      <td>38</td>\n",
              "      <td>60</td>\n",
              "      <td>29</td>\n",
              "      <td>54</td>\n",
              "      <td>51</td>\n",
              "      <td>D</td>\n",
              "      <td>A</td>\n",
              "      <td>A</td>\n",
              "      <td>0</td>\n",
              "      <td>0</td>\n",
              "    </tr>\n",
              "    <tr>\n",
              "      <th>4</th>\n",
              "      <td>1145</td>\n",
              "      <td>A</td>\n",
              "      <td>female</td>\n",
              "      <td>1</td>\n",
              "      <td>70.11</td>\n",
              "      <td>49</td>\n",
              "      <td>45</td>\n",
              "      <td>63</td>\n",
              "      <td>60</td>\n",
              "      <td>66</td>\n",
              "      <td>66</td>\n",
              "      <td>61</td>\n",
              "      <td>E</td>\n",
              "      <td>A</td>\n",
              "      <td>A</td>\n",
              "      <td>0</td>\n",
              "      <td>0</td>\n",
              "    </tr>\n",
              "  </tbody>\n",
              "</table>\n",
              "</div>\n",
              "      <button class=\"colab-df-convert\" onclick=\"convertToInteractive('df-b5752edd-a46f-4d87-afe0-85162bddd94a')\"\n",
              "              title=\"Convert this dataframe to an interactive table.\"\n",
              "              style=\"display:none;\">\n",
              "        \n",
              "  <svg xmlns=\"http://www.w3.org/2000/svg\" height=\"24px\"viewBox=\"0 0 24 24\"\n",
              "       width=\"24px\">\n",
              "    <path d=\"M0 0h24v24H0V0z\" fill=\"none\"/>\n",
              "    <path d=\"M18.56 5.44l.94 2.06.94-2.06 2.06-.94-2.06-.94-.94-2.06-.94 2.06-2.06.94zm-11 1L8.5 8.5l.94-2.06 2.06-.94-2.06-.94L8.5 2.5l-.94 2.06-2.06.94zm10 10l.94 2.06.94-2.06 2.06-.94-2.06-.94-.94-2.06-.94 2.06-2.06.94z\"/><path d=\"M17.41 7.96l-1.37-1.37c-.4-.4-.92-.59-1.43-.59-.52 0-1.04.2-1.43.59L10.3 9.45l-7.72 7.72c-.78.78-.78 2.05 0 2.83L4 21.41c.39.39.9.59 1.41.59.51 0 1.02-.2 1.41-.59l7.78-7.78 2.81-2.81c.8-.78.8-2.07 0-2.86zM5.41 20L4 18.59l7.72-7.72 1.47 1.35L5.41 20z\"/>\n",
              "  </svg>\n",
              "      </button>\n",
              "      \n",
              "  <style>\n",
              "    .colab-df-container {\n",
              "      display:flex;\n",
              "      flex-wrap:wrap;\n",
              "      gap: 12px;\n",
              "    }\n",
              "\n",
              "    .colab-df-convert {\n",
              "      background-color: #E8F0FE;\n",
              "      border: none;\n",
              "      border-radius: 50%;\n",
              "      cursor: pointer;\n",
              "      display: none;\n",
              "      fill: #1967D2;\n",
              "      height: 32px;\n",
              "      padding: 0 0 0 0;\n",
              "      width: 32px;\n",
              "    }\n",
              "\n",
              "    .colab-df-convert:hover {\n",
              "      background-color: #E2EBFA;\n",
              "      box-shadow: 0px 1px 2px rgba(60, 64, 67, 0.3), 0px 1px 3px 1px rgba(60, 64, 67, 0.15);\n",
              "      fill: #174EA6;\n",
              "    }\n",
              "\n",
              "    [theme=dark] .colab-df-convert {\n",
              "      background-color: #3B4455;\n",
              "      fill: #D2E3FC;\n",
              "    }\n",
              "\n",
              "    [theme=dark] .colab-df-convert:hover {\n",
              "      background-color: #434B5C;\n",
              "      box-shadow: 0px 1px 3px 1px rgba(0, 0, 0, 0.15);\n",
              "      filter: drop-shadow(0px 1px 2px rgba(0, 0, 0, 0.3));\n",
              "      fill: #FFFFFF;\n",
              "    }\n",
              "  </style>\n",
              "\n",
              "      <script>\n",
              "        const buttonEl =\n",
              "          document.querySelector('#df-b5752edd-a46f-4d87-afe0-85162bddd94a button.colab-df-convert');\n",
              "        buttonEl.style.display =\n",
              "          google.colab.kernel.accessAllowed ? 'block' : 'none';\n",
              "\n",
              "        async function convertToInteractive(key) {\n",
              "          const element = document.querySelector('#df-b5752edd-a46f-4d87-afe0-85162bddd94a');\n",
              "          const dataTable =\n",
              "            await google.colab.kernel.invokeFunction('convertToInteractive',\n",
              "                                                     [key], {});\n",
              "          if (!dataTable) return;\n",
              "\n",
              "          const docLinkHtml = 'Like what you see? Visit the ' +\n",
              "            '<a target=\"_blank\" href=https://colab.research.google.com/notebooks/data_table.ipynb>data table notebook</a>'\n",
              "            + ' to learn more about interactive tables.';\n",
              "          element.innerHTML = '';\n",
              "          dataTable['output_type'] = 'display_data';\n",
              "          await google.colab.output.renderOutput(dataTable, element);\n",
              "          const docLink = document.createElement('div');\n",
              "          docLink.innerHTML = docLinkHtml;\n",
              "          element.appendChild(docLink);\n",
              "        }\n",
              "      </script>\n",
              "    </div>\n",
              "  </div>\n",
              "  "
            ]
          },
          "metadata": {},
          "execution_count": 7
        }
      ]
    },
    {
      "cell_type": "code",
      "source": [
        "from sklearn.linear_model import LinearRegression"
      ],
      "metadata": {
        "id": "Vn_MmVOZ92DL"
      },
      "execution_count": 8,
      "outputs": []
    },
    {
      "cell_type": "code",
      "source": [
        "mi = LinearRegression()"
      ],
      "metadata": {
        "id": "mElLV2F493sy"
      },
      "execution_count": 9,
      "outputs": []
    },
    {
      "cell_type": "code",
      "source": [
        "from sklearn.model_selection import train_test_split\n",
        "X_train, X_test, y_train, y_test = train_test_split(stu['Algebra'].values.reshape(-1,1), stu['GPA'], test_size=0.1)"
      ],
      "metadata": {
        "id": "QHuQJP2r9_d5"
      },
      "execution_count": 11,
      "outputs": []
    },
    {
      "cell_type": "code",
      "source": [
        "mi.fit(X_train,y_train)\n",
        "mi.coef_, mi.intercept_"
      ],
      "metadata": {
        "colab": {
          "base_uri": "https://localhost:8080/"
        },
        "id": "ZrocJdKl-SCC",
        "outputId": "e24f8d76-9bb2-4b86-961a-673fb5772826"
      },
      "execution_count": 12,
      "outputs": [
        {
          "output_type": "execute_result",
          "data": {
            "text/plain": [
              "(array([0.37592792]), 54.33693767590216)"
            ]
          },
          "metadata": {},
          "execution_count": 12
        }
      ]
    },
    {
      "cell_type": "code",
      "source": [
        "stu['Predict'] = stu['Algebra']*mi.coef_+mi.intercept_\n",
        "mi_y = mi.predict(stu['GPA'].values.reshape(-1,1))\n",
        "mi_y"
      ],
      "metadata": {
        "colab": {
          "base_uri": "https://localhost:8080/"
        },
        "id": "qakuYnlk-VAg",
        "outputId": "8f6a976f-8766-4a17-f88c-a1665e4eb57c"
      },
      "execution_count": 13,
      "outputs": [
        {
          "output_type": "execute_result",
          "data": {
            "text/plain": [
              "array([81.95636182, 81.11052401, 82.36612325, 81.73832363, 80.69324402,\n",
              "       78.78728947, 83.32473944, 78.67827038, 83.62924106, 83.09542341,\n",
              "       83.21947963, 85.78330803, 83.28338737, 84.44124536, 85.03897075,\n",
              "       85.18934192, 82.19695569, 84.97506301, 82.7721254 , 83.0803863 ,\n",
              "       82.74581045, 85.58782551, 84.29839275, 85.90736424, 84.24576284,\n",
              "       83.86231637, 83.56909259, 85.56151056, 85.92991992, 86.39982982,\n",
              "       86.30584784, 87.05770367, 82.21951137, 85.42993579, 84.89611814,\n",
              "       86.49757107, 86.82838764, 86.33216279, 84.89987742, 85.91864208,\n",
              "       85.61038119, 88.41856274, 85.89232713, 84.813414  , 85.01641508,\n",
              "       87.36220529, 84.63672788, 82.31725262, 85.59534407, 85.36978732,\n",
              "       84.03524321, 86.08405036, 86.29832928, 83.48262917, 83.68938953,\n",
              "       87.20807484, 85.05400787, 86.56147882, 87.55016924, 84.1630587 ,\n",
              "       86.17803234, 83.80592718, 83.48262917, 84.79837688, 85.83593794,\n",
              "       86.80583197, 87.15544493, 86.06901325, 89.32078974, 87.15544493,\n",
              "       87.20055628, 86.03893901, 87.94865284, 85.95623487, 87.14040781,\n",
              "       88.88471335, 87.33213105, 86.17051378, 78.2046012 , 88.15165391,\n",
              "       86.35847774, 86.60659017, 85.98254983, 86.29081072, 88.40352562,\n",
              "       87.08777791, 86.15171739, 87.65166978, 87.36972384, 86.67049792,\n",
              "       87.96744923, 87.02762944, 86.99379593, 88.77569426, 87.62159555,\n",
              "       87.27950114, 88.82456489, 88.59900814, 88.28698796, 87.45618727,\n",
              "       87.54640997, 88.11030184, 87.72685537, 86.89229539, 89.56514289])"
            ]
          },
          "metadata": {},
          "execution_count": 13
        }
      ]
    },
    {
      "cell_type": "code",
      "source": [
        "mi.score(X_train, y_train)"
      ],
      "metadata": {
        "colab": {
          "base_uri": "https://localhost:8080/"
        },
        "id": "vbnEiHTq-ang",
        "outputId": "2f9c74f4-cf9c-4a1e-f6f1-07563ccd5b12"
      },
      "execution_count": 14,
      "outputs": [
        {
          "output_type": "execute_result",
          "data": {
            "text/plain": [
              "0.5666474166702149"
            ]
          },
          "metadata": {},
          "execution_count": 14
        }
      ]
    },
    {
      "cell_type": "code",
      "source": [
        "mi.score(X_test, y_test)"
      ],
      "metadata": {
        "colab": {
          "base_uri": "https://localhost:8080/"
        },
        "id": "_EprpG2T-bvX",
        "outputId": "5b75d794-ee2a-48d3-b65b-99d6be6b5111"
      },
      "execution_count": 15,
      "outputs": [
        {
          "output_type": "execute_result",
          "data": {
            "text/plain": [
              "0.6209407119192247"
            ]
          },
          "metadata": {},
          "execution_count": 15
        }
      ]
    }
  ]
}